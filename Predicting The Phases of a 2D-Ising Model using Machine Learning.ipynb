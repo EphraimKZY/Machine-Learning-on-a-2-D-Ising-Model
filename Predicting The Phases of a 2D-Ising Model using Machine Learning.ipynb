{
 "cells": [
  {
   "cell_type": "markdown",
   "id": "3a71b76b",
   "metadata": {},
   "source": [
    "# Predicting The Phases of a 2-D Ising Model using Machine Learning \n",
    "\n",
    "## Section 1: Generation of 2-D Ising Dataset\n",
    "\n",
    "### Basic idea of paramagnetism and ferromagnetism \n",
    "\n",
    "In ideal paramagnetism, each magnetic dipole only responds to the external magnetic field (if any): the dipoles have no inherent tendency to point parallel (or anti-parallel) to their neighbours. However, in reality, the dipoles are influenced by their neighbours. Each dipole can either be aligned parallel or anti-parallel to their neighbours due to quantum-mechanical effects. Depending on the relative alignment of neighbouring dipoles, there is a gain or loss in the energy of the system. \n",
    "\n",
    "Ferromagnetism refers to the phenomenon where neighbouring dipoles align parallel to one another even in the absence of an external magnetic field. A classical example of a material that exhibits ferromagnetism is iron. The strong alignment of dipoles in a ferromagnet, such as iron, manifests itself as a net non-zero magnetisation. Raising the temperature, however, causes random thermal flunctuations that decrease the overall magnetisation. For every ferromagnet, there is a certain critical temperature (known as the Curie temperature) at which net magnetisation becomes zero (when there is no external magnetic field). Above the Curie temperature, the ferromagnet turns into a paramagnet. \n",
    "\n",
    "Even if the temperature is below the Curie temperature, a ferromagnet (e.g. iron) might not be magnetised. This is because of the presence of magnetic domains. These are microscopic clusters of dipoles. Within each cluster, the dipoles are aligned parallel to one another, but the alignment of dipoles in one domain gives neighbouring domains the tendencies to align in the opposite direction. Since there are so many domains, with about as many pointing one way or another, the overall net magnetisation is zero.\n",
    "\n",
    "However, placing a ferromagnetic material in the presence of a strong external magnetic field may overcome the interaction between domains and cause all dipoles to align parallel to the field. Upon removing the external magnetic field, the interaction between dipoles prevent any significant realignment, eventually creating a permanent magnet. \n",
    "\n",
    "### Modelling ferromagnetism with the 2-D Ising model\n",
    "\n",
    "The 2-D Ising model can be easily visualised as a set of elementary magnetic dipoles on a square lattice of points, with each dipole placed at each point. \n",
    "\n",
    "To simplify any complexities, interaction between nearest neighbouring dipoles are only considered in the model and any long-range interactions are neglected. Also, the model further assumes that the ferromagnet only has one preferred axis of magnetisation and that each atomic dipole can only point parallel or anti-parallel to this axis. \n",
    "\n",
    "Note: The Ising model is by far not an accurate representation of a real-life ferromgnet. Even if there is only a preferred axis of magnetisation and the dipoles can only align in two possible directions along this axis, reality is much more subtle than this and this can be only be addressed in more advanced courses of solid-state physics. The Ising model does not yield accurate predictions for the low temperature behaviour of a ferromagnet. However, it does yield accurate predictions near the Curie temperature. \n",
    "\n",
    "### Monte Carlo methods in generating the dataset\n",
    "\n",
    "A variant of Monte Carlo methods will be used to generate the dataset for this project. Considering just a medium-sized (100 or so elementary dipoles) 2-D Ising model on a square lattice, even the fastest computer could not have compute the probabilities of all the possible states (or configurations) of the system. However, it may be sufficent enough to consider just a random sampling of states instead of all the possible states and use this sample to estimate the average energy, magnetisation and other quantities. This is the basic idea behind Monte Carlo simulation.\n",
    "\n",
    "However, there is a catch, specifically for the case of the Ising model. Even if we consider a random sampling of - say, a billion states, this is only a \"tiny\" fraction - one in $10^{21}$ - of all the possible states, even for a small 10 x 10 square lattice. At temperatures lower than the Curie temperature, when the system \"wants\" to magnetise, the \"relevant\" states (states with majority of the dipoles pointing in one direction or the other) only makes up a \"small\" fraction of all the possible states such that random sampling will miss them completely. The states that a single dipole can be in (either aligning parallel or anti-parallel) are not all equally probable especially with each dipole interacting with its neighbours. Depending on each dipole's energy contribution to the system, some states are much more pobable than others; simply sampling at random alone the states is just not sufficient.\n",
    "\n",
    "Instead, a better idea will be to use the Boltzmann factor to guide the random generation of states to sample. The boltzmann factor is an important mathematical tool in statistical mechanics that relates to the probability of finding a system in any particular state, when that system is in thermal equilibrium with a \"reservoir\" at a specified temperature. The probability of finding the system at a particular state $s$ is given by \n",
    "\n",
    "$$ P(s) \\propto e^{\\frac{-E(s)}{k_{b}T}}$$\n",
    "\n",
    "where $k_{b}$ is the Boltzmann constant, $E(s)$ is the energy of the system being in state $s$ and $T$ is the temperature of the \"reservoir\".\n",
    "\n",
    "A specific Monte Carlo method using the Boltzmann factor as a guidance is as follows:\n",
    "\n",
    "1) Randomly initialise a state of the system.\n",
    "\n",
    "2) Randomly choose a dipole and consider the probability of \"flipping\" it to the other state (i.e. parallel to anti-parallel or vice versa)\n",
    "\n",
    "3) Compute its contribution (gain or loss), $\\Delta U$, to the energy of the entire system as a result of \"flipping\" the dipole.\n",
    "\n",
    "4) If $\\Delta U \\le 0$, the system's energy would decrease or remained unchanged. Go ahead and \"flip\" the dipole to consider the new system's state.\n",
    "\n",
    "5) If $\\Delta U > 0$, the system's energy would increase. Decide at random whether to \"flip\" this dipole, with the probability of \"flipping\" it being $e^{\\frac{-\\Delta U}{k_{b}T}}$. If the dipole does not get \"flipped\", then the new system state will be exactly similar to the previous one.\n",
    "\n",
    "6) Repeat Steps 1 to 5 by randomly choosing another dipole, until every dipole has had many chances to be \"flipped\".\n",
    "\n",
    "The algorithm described above is known as the Metropolis algorithm, a variant of Monte Carlo method that placed an emphasis on importance sampling. It was first introduced by Nicholas Metropolis in 1953. The Metropolis algorithm ensures that low-energy states occur more frequently than high-energy states. \n",
    "\n",
    "In practice, the algorithm will only be run for a relatively small number of iterations, so most states will never be generated at all. Under these circumstances, there is no guarantee that the sample of states generated will \"accurately\" represent the full collection of all the possible states. Nevertheless, the main concern will be that the randomly generated sample of states will give an accurate picture of the expected energy and magnetisation of the system at specified temperatures. \n",
    "\n",
    "We begin by first importing the relevant Python libraries."
   ]
  },
  {
   "cell_type": "code",
   "execution_count": 2,
   "id": "9306593a",
   "metadata": {},
   "outputs": [],
   "source": [
    "# Importing the relevant libraries \n",
    "import numpy as np\n",
    "import matplotlib.pyplot as plt\n",
    "import pandas as pd\n",
    "from matplotlib import colors\n",
    "%matplotlib inline"
   ]
  },
  {
   "cell_type": "markdown",
   "id": "cadd1172",
   "metadata": {},
   "source": [
    "### Part 1: Defining helper functions\n",
    "\n",
    "Here, we define a few miscellaneous Python functions to help with our simulation."
   ]
  },
  {
   "cell_type": "code",
   "execution_count": 3,
   "id": "be898b47",
   "metadata": {},
   "outputs": [],
   "source": [
    "# Define a function to initialise a square grid of a fixed size, n\n",
    "# with elements randomly taking either the value of 1 (dipoles that are parallel) or -1 (dipoles that are anti-parallel)\n",
    "def initialise_square_grid(n):\n",
    "    '''\n",
    "    Inputs: \n",
    "    - n = size of the 2D square array, an integer\n",
    "    \n",
    "    Output: Returns a (n x n) square array with elements randomly taking 1 or -1\n",
    "    '''\n",
    "    grid = np.zeros((n, n))\n",
    "    for i in range(n):\n",
    "        for j in range(n):\n",
    "            if np.random.rand(1) < 0.5:\n",
    "                grid[i, j] = 1\n",
    "            else:\n",
    "                grid[i, j] = -1\n",
    "    return grid\n",
    "\n",
    "\n",
    "\n",
    "# Define a function to plot and colour-code a square grid (with title) to mimic a state\n",
    "# Elements of value 1 should be coloured black (parallel dipoles)\n",
    "# Elements of value -1 should be coloured white (anti-parallel dipoles)\n",
    "def plot_grid(square_grid, title):\n",
    "    '''\n",
    "    Inputs: \n",
    "    - square_grid: (n x n) square array of elements 1 or -1\n",
    "    - title: Title as a string\n",
    "    \n",
    "    Output: Colour code the square array: value 1 will be coloured black; value -1 will be coloured white\n",
    "    '''\n",
    "    cmap = colors.ListedColormap(['white', 'black'])\n",
    "    norm = colors.BoundaryNorm([-2,0,2], cmap.N)\n",
    "    \n",
    "    # Plotting and colour coding\n",
    "    fig, axes = plt.subplots()\n",
    "    axes.imshow(square_grid, cmap = cmap, norm = norm)\n",
    "    axes.set_title(title)\n",
    "    axes.set_xticks([])\n",
    "    axes.set_yticks([])\n",
    "\n",
    "\n",
    "    \n",
    "# Define a function to compute the magnetisation in arbitrary units of a square grid \n",
    "# Essentially summing all the values of the elements in a grid\n",
    "def magnetisation(square_grid):\n",
    "    '''\n",
    "    Inputs: \n",
    "    - square_grid: (n x n) square array of elements 1 or -1\n",
    "    \n",
    "    Output: Returns the sum of a square array based on the values of the elements (1 or -1)\n",
    "    '''\n",
    "    return np.sum(square_grid)"
   ]
  },
  {
   "cell_type": "markdown",
   "id": "237b9c1a",
   "metadata": {},
   "source": [
    "The following detail some considerations that are used to compute $\\Delta U$.\n",
    "\n",
    "### Energy of a 2-D Ising system\n",
    "\n",
    "For a 2-D Ising model, the total energy of the system is given by \n",
    "\n",
    "$$ U = - \\epsilon \\sum_{i} \\sum_{j} s_{i}s_{j} $$\n",
    "\n",
    "where $\\epsilon$ is a unit of interaction energy between a pair of dipoles (in arbitrary units) and $s_{i}$ is the current state of the ith dipole. The summation runs through all neighbouring pairs of $i$ and $j$.\n",
    "\n",
    "By convention, $s_{i} = 1$ for parallel dipoles and $s_{i} = -1$ for anti-parallel dipoles.\n",
    "\n",
    "### Periodic boundary conditions\n",
    "\n",
    "Since the simulation uses a \"relatively\" small square lattice size, there is the problem of \"edge effects\". In the 2-D Ising model, dipoles at the edge of the lattice are less constrained to align with their neighbours than other dipoles elsewhere. In we are modelling a small system, we should treat the edges as edges, with fewer neighbours per dipole. \n",
    "\n",
    "However, we are interested in large systems, so we should at best try to minimise these \"edge effects\". One way to do so is to have the square lattice \"wrap around\", treating right edge as if it were immediately left of the left edge and the bottom edge as if it were immediately above the top edge. Such conditions are known as periodic boundary conditions.\n",
    "\n",
    "With these considerations in mind, the following code define the Python functions that are crucial for the implementation of the Metropolis algorithm."
   ]
  },
  {
   "cell_type": "code",
   "execution_count": 5,
   "id": "ea2e4beb",
   "metadata": {},
   "outputs": [],
   "source": [
    "# Define a function to compute the change in interaction energy of the system as a result of flipping a dipole\n",
    "# Units of epsilon, the energy between a pair of interacting spins\n",
    "# i.e. Changing an element value from 1 to -1 (flipping a dipole from parallel to anti-parallel) or vice versa\n",
    "# Change in interaction energy is computed using nearest-neighbours assumption \n",
    "# i.e. Change in interaction energy between the dipole that is flipped and its nearest four neighbours\n",
    "# Minimising edge effects by using periodic boundary conditions:\n",
    "# - Making the 2D lattice 'wrap' around\n",
    "# - Treating the right edge as if it were immediately left of the left edge\n",
    "# - Treating the bottom edge as if it were immediately above the top edge\n",
    "def energy_change(square_grid, i, j):\n",
    "    '''\n",
    "    Inputs: \n",
    "    - square_grid: (n x n) square array of elements 1 or -1\n",
    "    - i, j: (ij)-th element of the square grid, integers\n",
    "    \n",
    "    Output: Returns the change in 'interaction energy' as a result of changing the (ij)-th element \n",
    "    from 1 to -1 (or vice versa)\n",
    "    '''\n",
    "    n = square_grid.shape[0]\n",
    "    # Treating edge effect at the top of the square array\n",
    "    if (i == 0):\n",
    "        top = square_grid[n-1, j]\n",
    "    else:\n",
    "        top = square_grid[i-1, j]     \n",
    "    # Treating edge effect at the bottom of the square array\n",
    "    if (i == n-1):\n",
    "        bottom = square_grid[0, j]\n",
    "    else:\n",
    "        bottom = square_grid[i+1, j]\n",
    "    # Treating edge effect on the left of the square array\n",
    "    if (j == 0):\n",
    "        left = square_grid[i, n-1]\n",
    "    else:\n",
    "        left = square_grid[i, j-1]\n",
    "    # Treating edge effect on the right of the square array\n",
    "    if (j == n-1):\n",
    "        right = square_grid[i, 0]\n",
    "    else:\n",
    "        right = square_grid[i, j+1]\n",
    "    \n",
    "    # Compute the 'interaction energy' of the system as a result of changing an element from 1 to -1 (or vice versa)\n",
    "    delta_U = 2 * square_grid[i,j] * (top + bottom + left + right)\n",
    "    \n",
    "    return delta_U\n",
    "    \n",
    "\n",
    "\n",
    "# Define a function that implements the Metropolis algorithm\n",
    "def ising_simulation(n, T, plot = True):\n",
    "    '''\n",
    "    2D Ising simulation using Metropolis algorithm\n",
    "    Inputs: \n",
    "    - n: size of the 2D square array, an integer\n",
    "    - T: Temperature, in units of epsilon/boltzmann constant\n",
    "    - plot: Decide if the square array is plotted at the beginning and the end of the simulation\n",
    "    \n",
    "    Output: Returns a possible square array with a probability proportional to the Boltzmann factor\n",
    "    '''\n",
    "    grid = initialise_square_grid(n)\n",
    "    \n",
    "    if plot == True:\n",
    "        plot_grid(grid, title = 'Randomly initialised microstate')\n",
    "    \n",
    "    # Executes the Metropolis algorithm 100 times per element in a square array\n",
    "    for iteration in range(100*n**2):\n",
    "        # Randomly select an (ij)th-element of the square array\n",
    "        ith_row = int(np.random.rand(1)*n)\n",
    "        jth_col = int(np.random.rand(1)*n)\n",
    "        \n",
    "        # Compute the energy change of the system as a result of changing the value of (ij)th-element\n",
    "        # from 1 to -1 (or vice versa)\n",
    "        delta_E = energy_change(grid, ith_row, jth_col)\n",
    "        \n",
    "        # Change the value of (ij)th-element if delta_E <= 0\n",
    "        # Else, decide at random whether to change the value, with a probability of the change being np.exp(-delta_U/T)\n",
    "        # Boltzmann factor\n",
    "        if delta_E <= 0:\n",
    "            grid[ith_row, jth_col] = -grid[ith_row, jth_col]\n",
    "        else:\n",
    "            if np.random.rand(1) < np.exp(-delta_E/T):\n",
    "                grid[ith_row, jth_col] = -grid[ith_row, jth_col]\n",
    "        \n",
    "    if plot == True:\n",
    "        plot_grid(grid, title = 'Finalised possible microstate at T = %1.1f' %T)\n",
    "    \n",
    "    return grid"
   ]
  },
  {
   "cell_type": "markdown",
   "id": "3672c7d3",
   "metadata": {},
   "source": [
    "### Part 2: Generating a possible state at T = 10.0 (in units of $\\epsilon / k_{B}$)\n",
    "\n",
    "Here, the code for the Metropolis algorithm is tested with a 50 x 50 square array. The algorithm outputs one $\\textbf{possible}$ state at temperature $T = 10.0$ given a randomly initialised state. Note that there are other possible states with this temperature and this is just one possible state. \n",
    "\n",
    "Nonetheless, it gives a good picture of what the system looks like at high temperatures (i.e. dipoles are randomly aligned)."
   ]
  },
  {
   "cell_type": "code",
   "execution_count": 11,
   "id": "8d004fbb",
   "metadata": {},
   "outputs": [
    {
     "data": {
      "text/plain": [
       "array([[-1.,  1.,  1., ...,  1., -1.,  1.],\n",
       "       [ 1.,  1.,  1., ...,  1.,  1.,  1.],\n",
       "       [ 1., -1., -1., ...,  1.,  1.,  1.],\n",
       "       ...,\n",
       "       [ 1.,  1., -1., ...,  1.,  1., -1.],\n",
       "       [ 1., -1.,  1., ...,  1.,  1.,  1.],\n",
       "       [-1., -1.,  1., ...,  1., -1.,  1.]])"
      ]
     },
     "execution_count": 11,
     "metadata": {},
     "output_type": "execute_result"
    },
    {
     "data": {
      "image/png": "[encoded data removed]",
      "text/plain": [
       "<Figure size 640x480 with 1 Axes>"
      ]
     },
     "metadata": {},
     "output_type": "display_data"
    },
    {
     "data": {
      "image/png": "[encoded data removed]",
      "text/plain": [
       "<Figure size 640x480 with 1 Axes>"
      ]
     },
     "metadata": {},
     "output_type": "display_data"
    }
   ],
   "source": [
    "ising_simulation(50, 10, plot = True)"
   ]
  },
  {
   "cell_type": "markdown",
   "id": "db2cd09a",
   "metadata": {},
   "source": [
    "### Part 3: Generating typical states at various temperatures (in units of $\\epsilon/k_{B}$)\n",
    "\n",
    "Here, we use the Metropolis algorithm to generate typical states for a range of temperatures."
   ]
  },
  {
   "cell_type": "code",
   "execution_count": 27,
   "id": "e94423c4",
   "metadata": {},
   "outputs": [
    {
     "data": {
      "image/png": "[encoded data removed]",
      "text/plain": [
       "<Figure size 640x480 with 9 Axes>"
      ]
     },
     "metadata": {},
     "output_type": "display_data"
    }
   ],
   "source": [
    "### Generation of 2D-Ising microstates at various temperatures\n",
    "\n",
    "## Test: Generating typical microstates (50 x 50) at various temperatures\n",
    "# T = 10.0, 7.0, 5.0, 4.0, 3.0, 2.5, 2.0, 1.5, 1.0\n",
    "\n",
    "Temp = [10, 7, 5, 4, 3, 2.5, 2, 1.5, 1]\n",
    "index = 0\n",
    "\n",
    "fig, axes = plt.subplots(nrows=3, ncols=3)\n",
    "axes = axes.reshape(9,)\n",
    "\n",
    "for ax in axes:\n",
    "    grid = ising_simulation(50, Temp[index], plot = False)\n",
    "    \n",
    "    cmap = colors.ListedColormap(['white', 'black'])\n",
    "    norm = colors.BoundaryNorm([-2,0,2], cmap.N)\n",
    "    \n",
    "    ax.imshow(grid, cmap = cmap, norm = norm)\n",
    "    ax.set_title('T = %1.1f' %Temp[index])\n",
    "    ax.set_xticks([])\n",
    "    ax.set_yticks([])\n",
    "    \n",
    "    index += 1\n",
    "    \n",
    "plt.tight_layout()"
   ]
  },
  {
   "cell_type": "markdown",
   "id": "f4903144",
   "metadata": {},
   "source": [
    "The configurations generated above show what a typical state at each temperature looks like. At $T = 10.0$, the state is quite random, with only a slight tendency for dipoles to align with their neighbours. At successively lower temperatures, the dipoles tend to form larger and larger domains. At $T = 2.5$, the domains are about the size of the entire grid. At $T = 1.5$, a single \"domain\" has nearly taken over the entire grid, so the system is said to be magnetised. Small domains of dipoles will occasionally \"flip\", as shown. The other state of \"opposite\" magnetisation is just probable, but a large number of iterations is needed to get that state. At $T = 1.0$, the system happens to settle in the \"other\" state of magnetisation.\n",
    "\n",
    "Based on this simulation, the Curie temperature seems to be between $T = 2.5$ and $T = 2.0$. In fact, theoretical calculation has shown that the Curie temperature for a 2-D Ising model is $T = 2.269$. Indeed, the Metropolis algorithm has done a great job in sampling the states that are typical of temepratures near the Curie temperature. "
   ]
  },
  {
   "cell_type": "markdown",
   "id": "67acce76",
   "metadata": {},
   "source": [
    "### Part 4: Generating training and test datasets\n",
    "\n",
    "Here, the Metropolis algorithm is used to generate the training and test datasets. 2-D Ising states are generated for a set of temperatures within a specified range and for fixed number of repetitions. The states are first stored as an array of square grids in the raw dataset.\n",
    "\n",
    "For the purpose of training a MNN, the square matrices have to be reshaped into vectors appropriate for fitting the machine learning algorithm. This processed dataset is said to be vectorised.\n",
    "\n",
    "Finally, a vector containing the binary labels of whether the temperature is above or below the Curie temperature is created for the generated states.\n",
    "\n",
    "The following defines a function to generate the above-mentioned datasets."
   ]
  },
  {
   "cell_type": "code",
   "execution_count": 180,
   "id": "ab2e4523",
   "metadata": {},
   "outputs": [],
   "source": [
    "### Generation of 2D-Ising Dataset\n",
    "\n",
    "# Define a function to generate a dataset\n",
    "def generate_2D_Ising_dataset(n, num_T, min_T, max_T, repeats):\n",
    "    '''\n",
    "    Generate dataset for 2D Ising at different temperatures\n",
    "    \n",
    "    Inputs: \n",
    "    - n: size of the 2D square array, an integer\n",
    "    - num_T: Number of temperatures to consider \n",
    "    - min_T: Minimum temperature in the consideration\n",
    "    - max_T: Maximum temperature in the consideration\n",
    "    - repeats: Number of times to repeat the simulation for a particular temperature \n",
    "    \n",
    "    Output: \n",
    "    - dataset: Array of square arrays (n x n) obtained from simulating the 2D Ising ( (num_T*repeats) square arrays)\n",
    "    - dataset_vectorised: (num_T*repeats x size^2) array where each row is a vectorised version of a square array\n",
    "    - labels: (num_T*repeats x 1) array that labels if the simulation is made above the critical temperature (1) or below (0)\n",
    "    '''\n",
    "    # Empty list to contain the square arrays from the 2D Ising simulation (There are a total of (num_T*repeats) square arrays) \n",
    "    dataset = []\n",
    "    # Each row is a vectorised (flattened) version of a square array\n",
    "    dataset_vectorised = np.zeros((num_T*repeats, n**2))\n",
    "    # Array of temperatures to be simulated\n",
    "    temperature = np.linspace(min_T, max_T, num = num_T)\n",
    "    # Array to contain class labels\n",
    "    # Temperature that is above critical temperature: 1\n",
    "    # Temperature that is below critical temperature: 0\n",
    "    labels = np.zeros((num_T*repeats, 1))\n",
    "    \n",
    "    for i in range(repeats):\n",
    "        for j in range(num_T):\n",
    "            grid = ising_simulation(n, temperature[j], plot = False)\n",
    "            dataset.append(grid)\n",
    "            dataset_vectorised[i*num_T+j,:] = grid.reshape(1, n**2)\n",
    "            \n",
    "            # Theoretical critical temperature for 2D Ising is 2.269, in units of epsilon/boltzmann constant \n",
    "            if temperature[j] > 2.269:\n",
    "                labels[i*num_T+j,:] = 1\n",
    "            else:\n",
    "                labels[i*num_T+j,:] = 0\n",
    "                      \n",
    "            print(i*num_T+j, end = \"\\r\")\n",
    "    \n",
    "    return np.array(dataset), dataset_vectorised, labels  "
   ]
  },
  {
   "cell_type": "markdown",
   "id": "eb8b9eb6",
   "metadata": {},
   "source": [
    "Below, the training dataset is generated. \n",
    "\n",
    "The raw training dataset is an array of 800 2-D Ising states (50 x 50 grids) generated from temperatures between $T = 1.0$ and $T = 5.0$. This array is stored under `X_train_raw`.\n",
    "\n",
    "The vectorised dataset is a (800 x 2500) matrix. Each row represents the vectorised version of a generated 2-D Ising state. This is stored under `X_train`. \n",
    "\n",
    "The vector containing the binary labels of whether the temperature is above or below the Curie temperature for a particular state is stored under `y_train`. It is a (800 x 1) vector.\n",
    "\n",
    "Both `X_train` and `y_train` will be used as inputs for the MNN."
   ]
  },
  {
   "cell_type": "code",
   "execution_count": 181,
   "id": "fe407710",
   "metadata": {},
   "outputs": [
    {
     "name": "stdout",
     "output_type": "stream",
     "text": [
      "799\r"
     ]
    }
   ],
   "source": [
    "### Generation of 2D-Ising Dataset\n",
    "\n",
    "# Generate the training dataset (800 2D Ising Simulations)\n",
    "X_train_raw, X_train, y_train = generate_2D_Ising_dataset(n = 50, num_T = 40, min_T = 1, max_T = 5, repeats = 20)"
   ]
  },
  {
   "cell_type": "code",
   "execution_count": 182,
   "id": "a302ec80",
   "metadata": {},
   "outputs": [
    {
     "name": "stdout",
     "output_type": "stream",
     "text": [
      "Stored 'X_train_raw' (ndarray)\n",
      "Stored 'X_train' (ndarray)\n",
      "Stored 'y_train' (ndarray)\n"
     ]
    }
   ],
   "source": [
    "%store X_train_raw\n",
    "%store X_train\n",
    "%store y_train"
   ]
  },
  {
   "cell_type": "code",
   "execution_count": 183,
   "id": "dd199613",
   "metadata": {},
   "outputs": [
    {
     "data": {
      "text/plain": [
       "1.0    540\n",
       "0.0    260\n",
       "dtype: int64"
      ]
     },
     "execution_count": 183,
     "metadata": {},
     "output_type": "execute_result"
    }
   ],
   "source": [
    "pd.value_counts(y_train.reshape(800,))"
   ]
  },
  {
   "cell_type": "markdown",
   "id": "ba2d065d",
   "metadata": {},
   "source": [
    "Below, the test dataset is generated. \n",
    "\n",
    "The raw test dataset is an array of 200 2-D Ising states (50 x 50 grids) generated from temperatures between $T = 1.0$ and $T = 5.0$. This array is stored under `X_test_raw`.\n",
    "\n",
    "The vectorised dataset is a (200 x 2500) matrix. Each row represents the vectorised version of a generated 2-D Ising state. This is stored under `X_test`. \n",
    "\n",
    "The vector containing the binary labels of whether the temperature is above or below the Curie temperature for a particular state is stored under `y_test`. It is a (200 x 1) vector.\n",
    "\n",
    "The `X_test` dataset is used to generate predictions from the MNN and the `y_test` dataset will be used to validate the results."
   ]
  },
  {
   "cell_type": "code",
   "execution_count": 184,
   "id": "b1e069b4",
   "metadata": {},
   "outputs": [
    {
     "name": "stdout",
     "output_type": "stream",
     "text": [
      "199\r"
     ]
    }
   ],
   "source": [
    "### Generation of 2D-Ising Dataset\n",
    "\n",
    "# Generate the test dataset (200 2D Ising Simulations)\n",
    "X_test_raw, X_test, y_test = generate_2D_Ising_dataset(n = 50, num_T = 20, min_T = 1, max_T = 5, repeats = 10)"
   ]
  },
  {
   "cell_type": "code",
   "execution_count": 185,
   "id": "a1403f7e",
   "metadata": {},
   "outputs": [
    {
     "name": "stdout",
     "output_type": "stream",
     "text": [
      "Stored 'X_test_raw' (ndarray)\n",
      "Stored 'X_test' (ndarray)\n",
      "Stored 'y_test' (ndarray)\n"
     ]
    }
   ],
   "source": [
    "%store X_test_raw\n",
    "%store X_test\n",
    "%store y_test"
   ]
  },
  {
   "cell_type": "code",
   "execution_count": 186,
   "id": "700161f8",
   "metadata": {},
   "outputs": [
    {
     "data": {
      "text/plain": [
       "1.0    130\n",
       "0.0     70\n",
       "dtype: int64"
      ]
     },
     "execution_count": 186,
     "metadata": {},
     "output_type": "execute_result"
    }
   ],
   "source": [
    "pd.value_counts(y_test.reshape(200,))"
   ]
  },
  {
   "cell_type": "markdown",
   "id": "46dab043",
   "metadata": {},
   "source": [
    "# Section 2: Predicting Phases using a MNN\n",
    "\n",
    "The training dataset `X_train` will now be used to train a MNN. The aim of this project is to used the trained MNN to predict whether a given 2-D Ising state is above or below the theoretical Curie temperature.\n",
    "\n",
    "First, we begin by importing the relevant libraries from Keras."
   ]
  },
  {
   "cell_type": "code",
   "execution_count": 15,
   "id": "b3d6fb53",
   "metadata": {},
   "outputs": [],
   "source": [
    "# Relevant libraries\n",
    "import tensorflow as tf\n",
    "from tensorflow.keras.models import Sequential\n",
    "from tensorflow.keras.layers import Dense,Dropout\n",
    "from tensorflow.keras.callbacks import EarlyStopping"
   ]
  },
  {
   "cell_type": "markdown",
   "id": "4c9ba083",
   "metadata": {},
   "source": [
    "### Part 1: Training a MNN on the training dataset\n",
    "\n",
    "The following code initialises the MNN to be trained. The MNN has two hidden layers in addition to its input and output layers. \n",
    "\n",
    "To prevent over-fitting, the MNN is initialised with Dropout layers and an Early Stopping function. "
   ]
  },
  {
   "cell_type": "code",
   "execution_count": 309,
   "id": "644ff7b7",
   "metadata": {},
   "outputs": [],
   "source": [
    "# Creating the multilayer neural network (2 hidden layers)\n",
    "model = Sequential()\n",
    "model.add(Dense(units=50,activation='relu'))\n",
    "model.add(Dropout(0.5))\n",
    "model.add(Dense(units=25,activation='relu'))\n",
    "model.add(Dropout(0.5))\n",
    "model.add(Dense(units=1,activation='sigmoid'))\n",
    "model.compile(loss='binary_crossentropy', optimizer='adam')\n",
    "\n",
    "# Creating 'early_stop' to track validation error and stop training once it begins increasing too much\n",
    "early_stop = EarlyStopping(monitor='val_loss', mode='min', verbose=1, patience=10)"
   ]
  },
  {
   "cell_type": "markdown",
   "id": "945830a2",
   "metadata": {},
   "source": [
    "The MNN will be made to run through the training dataset for a certain specified number of runs (or epochs). After every run, the weights of the nodes in the MNN will be adjusted by back-propagation to fit the training dataset. In addition, the losses for the training dataset and validation test dataset will be computed after every run. \n",
    "\n",
    "The Dropout layers randomly select nodes to be dropped out at a specified probability during every run. The effect is that the MNN becomes less sensitive to the specific weights of the nodes. This, in turn, results in a network capable of better generalisation and less likely to overfit the training dataset.\n",
    "\n",
    "The Early Stopping function tracks the losses from the validation test dataset and halts the training as soon as it begins increasing too much. "
   ]
  },
  {
   "cell_type": "code",
   "execution_count": 310,
   "id": "2d3db86d",
   "metadata": {},
   "outputs": [
    {
     "name": "stdout",
     "output_type": "stream",
     "text": [
      "Epoch 1/40\n",
      "25/25 [==============================] - 1s 7ms/step - loss: 0.9146 - val_loss: 0.6015\n",
      "Epoch 2/40\n",
      "25/25 [==============================] - 0s 3ms/step - loss: 0.6590 - val_loss: 0.5260\n",
      "Epoch 3/40\n",
      "25/25 [==============================] - 0s 3ms/step - loss: 0.6097 - val_loss: 0.4980\n",
      "Epoch 4/40\n",
      "25/25 [==============================] - 0s 3ms/step - loss: 0.5253 - val_loss: 0.4674\n",
      "Epoch 5/40\n",
      "25/25 [==============================] - 0s 3ms/step - loss: 0.5012 - val_loss: 0.4179\n",
      "Epoch 6/40\n",
      "25/25 [==============================] - 0s 3ms/step - loss: 0.4306 - val_loss: 0.4259\n",
      "Epoch 7/40\n",
      "25/25 [==============================] - 0s 3ms/step - loss: 0.3705 - val_loss: 0.4109\n",
      "Epoch 8/40\n",
      "25/25 [==============================] - 0s 3ms/step - loss: 0.3437 - val_loss: 0.3871\n",
      "Epoch 9/40\n",
      "25/25 [==============================] - 0s 4ms/step - loss: 0.2825 - val_loss: 0.3916\n",
      "Epoch 10/40\n",
      "25/25 [==============================] - 0s 4ms/step - loss: 0.2675 - val_loss: 0.4114\n",
      "Epoch 11/40\n",
      "25/25 [==============================] - 0s 3ms/step - loss: 0.2169 - val_loss: 0.3894\n",
      "Epoch 12/40\n",
      "25/25 [==============================] - 0s 3ms/step - loss: 0.2481 - val_loss: 0.3903\n",
      "Epoch 13/40\n",
      "25/25 [==============================] - 0s 3ms/step - loss: 0.2171 - val_loss: 0.4227\n",
      "Epoch 14/40\n",
      "25/25 [==============================] - 0s 3ms/step - loss: 0.2019 - val_loss: 0.4196\n",
      "Epoch 15/40\n",
      "25/25 [==============================] - 0s 3ms/step - loss: 0.1830 - val_loss: 0.4226\n",
      "Epoch 16/40\n",
      "25/25 [==============================] - 0s 4ms/step - loss: 0.1825 - val_loss: 0.4425\n",
      "Epoch 17/40\n",
      "25/25 [==============================] - 0s 3ms/step - loss: 0.1339 - val_loss: 0.4255\n",
      "Epoch 18/40\n",
      "25/25 [==============================] - 0s 3ms/step - loss: 0.1267 - val_loss: 0.4077\n",
      "Epoch 18: early stopping\n"
     ]
    },
    {
     "data": {
      "text/plain": [
       "<keras.callbacks.History at 0x1e57b1f7a30>"
      ]
     },
     "execution_count": 310,
     "metadata": {},
     "output_type": "execute_result"
    }
   ],
   "source": [
    "# Fitting the model on the training set\n",
    "model.fit(x = X_train, \n",
    "          y = y_train, \n",
    "          epochs = 40,\n",
    "          validation_data = (X_test, y_test),\n",
    "          verbose = 1,\n",
    "          callbacks=[early_stop]\n",
    "          )"
   ]
  },
  {
   "cell_type": "markdown",
   "id": "753dd32c",
   "metadata": {},
   "source": [
    "### Part 2: Model Evaluation\n",
    "\n",
    "The following graph shows the plots of the losses of the training dataset and validation test dataset against the number of epochs.\n",
    "\n",
    "We see that the loss for the validation test dataset starts to plateau off (albeit with flunctuations) after the tenth epoch. The Early Stopping function had been triggered at the 18th epoch."
   ]
  },
  {
   "cell_type": "code",
   "execution_count": 311,
   "id": "e328e3ae",
   "metadata": {},
   "outputs": [
    {
     "data": {
      "text/plain": [
       "<AxesSubplot: >"
      ]
     },
     "execution_count": 311,
     "metadata": {},
     "output_type": "execute_result"
    },
    {
     "data": {
      "image/png": "[encoded data removed]",
      "text/plain": [
       "<Figure size 640x480 with 1 Axes>"
      ]
     },
     "metadata": {},
     "output_type": "display_data"
    }
   ],
   "source": [
    "# Evaluating the model performance\n",
    "model_loss = pd.DataFrame(model.history.history)\n",
    "model_loss.plot()"
   ]
  },
  {
   "cell_type": "markdown",
   "id": "12e7639b",
   "metadata": {},
   "source": [
    "The trained MNN is used to make predictions of the class labels (i.e. whether a given 2-D Ising state is above or below the Curie temperature) from the test dataset. The predictions is compared with the actual class labels.\n",
    "\n",
    "The following shows the confusion matrix when comparing the predictions with the actual class labels as well as relevant statistical reports."
   ]
  },
  {
   "cell_type": "code",
   "execution_count": 312,
   "id": "1f9da8de",
   "metadata": {},
   "outputs": [
    {
     "name": "stdout",
     "output_type": "stream",
     "text": [
      "7/7 [==============================] - 0s 1ms/step\n",
      "[[67  3]\n",
      " [35 95]]\n",
      "              precision    recall  f1-score   support\n",
      "\n",
      "         0.0       0.66      0.96      0.78        70\n",
      "         1.0       0.97      0.73      0.83       130\n",
      "\n",
      "    accuracy                           0.81       200\n",
      "   macro avg       0.81      0.84      0.81       200\n",
      "weighted avg       0.86      0.81      0.81       200\n",
      "\n"
     ]
    }
   ],
   "source": [
    "# Evaluating the model performance\n",
    "# Relevant library\n",
    "from sklearn.metrics import classification_report,confusion_matrix\n",
    "\n",
    "# Predictions on the test dataset\n",
    "predictions = (model.predict(X_test) > 0.5).astype(\"int32\")\n",
    "\n",
    "# Confusion matrix\n",
    "print(confusion_matrix(y_test,predictions))\n",
    "\n",
    "# Classification report\n",
    "print(classification_report(y_test,predictions))\n",
    "\n",
    "# Support - Total predicted P OR Total predicted N\n",
    "# Precision - TP/(TP + FP)\n",
    "# Recall - TP/ (TP + FN)\n",
    "# f1 score - 2*(Precision*Recall)/(Precision + Recall)"
   ]
  },
  {
   "cell_type": "markdown",
   "id": "fd2881de",
   "metadata": {},
   "source": [
    "From the confusion matrix, we can see that the MNN has achieved an accuracy of $81\\%$. \n",
    "\n",
    "The MNN seems to perform poorly in predicting 2-D Ising states that are below the Curie temperature. It makes sense since the MNN is trained on a dataset with a larger proportion of 2-D Ising states that are generated at temperatures above the Curie temperature. \n",
    "\n",
    "A possible remedy is to consider training datasets of larger sizes (with relatively the same proportional of above-Curie temperature and below-Curie temperature 2-D Ising states). \n",
    "\n",
    "We can also consider exploring more classes instead of the current binary class prediction as well as explore tuning the hyperparameters of the MNN to improve its performance."
   ]
  },
  {
   "cell_type": "markdown",
   "id": "74506d72",
   "metadata": {},
   "source": [
    "### Ongoing future works:\n",
    "\n",
    "1) Testing models with different sets of hyperparameters to find the best hyperparameters for the MNN (e.g. number of activation units in first hidden layer; number of epochs; number of dropout layers etc.)\n",
    "\n",
    "2) Prediction with a larger training dataset\n",
    "\n",
    "3) Multi-class classification"
   ]
  },
  {
   "cell_type": "code",
   "execution_count": null,
   "id": "363397fd",
   "metadata": {},
   "outputs": [],
   "source": []
  }
 ],
 "metadata": {
  "kernelspec": {
   "display_name": "Python 3 (ipykernel)",
   "language": "python",
   "name": "python3"
  },
  "language_info": {
   "codemirror_mode": {
    "name": "ipython",
    "version": 3
   },
   "file_extension": ".py",
   "mimetype": "text/x-python",
   "name": "python",
   "nbconvert_exporter": "python",
   "pygments_lexer": "ipython3",
   "version": "3.9.7"
  }
 },
 "nbformat": 4,
 "nbformat_minor": 5
}
